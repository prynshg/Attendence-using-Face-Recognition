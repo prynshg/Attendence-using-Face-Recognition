{
 "cells": [
  {
   "cell_type": "code",
   "execution_count": 1,
   "id": "786304c4",
   "metadata": {},
   "outputs": [],
   "source": [
    "# !pip install cmake"
   ]
  },
  {
   "cell_type": "code",
   "execution_count": 10,
   "id": "1a6337bf",
   "metadata": {},
   "outputs": [
    {
     "name": "stdout",
     "output_type": "stream",
     "text": [
      "Microsoft Windows [Version 10.0.22621.674]\n",
      "(c) Microsoft Corporation. All rights reserved.\n",
      "\n",
      "(base) C:\\Users\\priya\\OneDrive\\Desktop\\Face recognition>where python\n",
      "C:\\Users\\priya\\anaconda3\\python.exe\n",
      "C:\\Program Files\\Python310\\python.exe\n",
      "C:\\Users\\priya\\AppData\\Local\\Microsoft\\WindowsApps\\python.exe\n",
      "\n",
      "(base) C:\\Users\\priya\\OneDrive\\Desktop\\Face recognition>"
     ]
    }
   ],
   "source": [
    "%%cmd\n",
    "where python"
   ]
  },
  {
   "cell_type": "code",
   "execution_count": 4,
   "id": "cb981503",
   "metadata": {},
   "outputs": [
    {
     "name": "stdout",
     "output_type": "stream",
     "text": [
      "Microsoft Windows [Version 10.0.22621.674]\n",
      "(c) Microsoft Corporation. All rights reserved.\n",
      "\n",
      "(base) C:\\Users\\priya\\OneDrive\\Desktop\\Face recognition>python --version\n",
      "Python 3.9.12\n",
      "\n",
      "(base) C:\\Users\\priya\\OneDrive\\Desktop\\Face recognition>"
     ]
    }
   ],
   "source": [
    "%%cmd\n",
    "python --version"
   ]
  },
  {
   "cell_type": "code",
   "execution_count": 7,
   "id": "1ceafcc2",
   "metadata": {},
   "outputs": [
    {
     "name": "stdout",
     "output_type": "stream",
     "text": [
      "Processing c:\\users\\priya\\onedrive\\desktop\\face recognition\\dlib-python whl packages\\dlib-19.22.99-cp39-cp39-win_amd64.whl\n",
      "Installing collected packages: dlib\n",
      "Successfully installed dlib-19.22.99\n"
     ]
    }
   ],
   "source": [
    "!pip install \"C:\\Users\\priya\\OneDrive\\Desktop\\Face recognition\\Dlib-python whl packages\\dlib-19.22.99-cp39-cp39-win_amd64.whl\""
   ]
  },
  {
   "cell_type": "code",
   "execution_count": 8,
   "id": "81ef3836",
   "metadata": {
    "scrolled": true
   },
   "outputs": [
    {
     "name": "stdout",
     "output_type": "stream",
     "text": [
      "Collecting face-recognition\n",
      "  Using cached face_recognition-1.3.0-py2.py3-none-any.whl (15 kB)\n",
      "Requirement already satisfied: face-recognition-models>=0.3.0 in c:\\users\\priya\\anaconda3\\lib\\site-packages (from face-recognition) (0.3.0)\n",
      "Requirement already satisfied: dlib>=19.7 in c:\\users\\priya\\anaconda3\\lib\\site-packages (from face-recognition) (19.22.99)\n",
      "Requirement already satisfied: Click>=6.0 in c:\\users\\priya\\anaconda3\\lib\\site-packages (from face-recognition) (8.0.4)\n",
      "Requirement already satisfied: numpy in c:\\users\\priya\\anaconda3\\lib\\site-packages (from face-recognition) (1.21.5)\n",
      "Requirement already satisfied: Pillow in c:\\users\\priya\\anaconda3\\lib\\site-packages (from face-recognition) (9.0.1)\n",
      "Requirement already satisfied: colorama in c:\\users\\priya\\anaconda3\\lib\\site-packages (from Click>=6.0->face-recognition) (0.4.4)\n",
      "Installing collected packages: face-recognition\n",
      "Successfully installed face-recognition-1.3.0\n"
     ]
    }
   ],
   "source": [
    "!pip install face-recognition"
   ]
  },
  {
   "cell_type": "code",
   "execution_count": null,
   "id": "edb52e70",
   "metadata": {},
   "outputs": [
    {
     "name": "stdout",
     "output_type": "stream",
     "text": [
      "['anurag.jpeg', 'bill gates.jpg', 'dr ravindra bhatt.jpg', 'elon musk.jpg', 'garv.jpeg', 'kshitij.jpeg', 'priyansh.jpeg', 'rhythmmm.jpeg']\n",
      "['anurag', 'bill gates', 'dr ravindra bhatt', 'elon musk', 'garv', 'kshitij', 'priyansh', 'rhythmmm']\n",
      "Encoding complete\n"
     ]
    }
   ],
   "source": [
    "import cv2\n",
    "import numpy as np\n",
    "import face_recognition\n",
    "import os\n",
    "from datetime import datetime\n",
    "\n",
    "path=\"photos\"\n",
    "images=[]\n",
    "classNames=[]\n",
    "myList=os.listdir(path)\n",
    "print(myList)\n",
    "for cl in myList:\n",
    "    curImg=cv2.imread(f'{path}/{cl}')\n",
    "    images.append(curImg)\n",
    "    classNames.append(os.path.splitext(cl)[0])\n",
    "print(classNames)\n",
    "\n",
    "def findEncodings(images):\n",
    "    encodeList=[]\n",
    "    for img in images:\n",
    "        img=cv2.cvtColor(img,cv2.COLOR_BGR2RGB)\n",
    "        encode=face_recognition.face_encodings(img)[0]\n",
    "        encodeList.append(encode)\n",
    "    return encodeList\n",
    "\n",
    "def markAttendence(name):\n",
    "    with open('Attendence.txt','r+') as f:\n",
    "        myDataList=f.readlines()\n",
    "        nameList=[]\n",
    "        for line in myDataList:\n",
    "            entry=line.split(',')\n",
    "            nameList.append(entry[0])\n",
    "        if name not in nameList:\n",
    "            now =datetime.now()\n",
    "            dateString=now.strftime('%Y-%m-%d')\n",
    "            timeString=now.strftime('%H:%M:%S')\n",
    "            f.writelines(f'\\n{name},{dateString},{timeString}')\n",
    "\n",
    "encodeListKnown=findEncodings(images)\n",
    "print('Encoding complete')\n",
    "\n",
    "cap=cv2.VideoCapture(0)\n",
    "\n",
    "while True:\n",
    "    success,img=cap.read()\n",
    "    imgS=cv2.resize(img,(0,0),None,0.25,0.25)\n",
    "    imgS=cv2.cvtColor(imgS,cv2.COLOR_BGR2RGB)\n",
    "    \n",
    "    facesCurFrame=face_recognition.face_locations(imgS)\n",
    "    encodesCurFrame=face_recognition.face_encodings(imgS,facesCurFrame)\n",
    "    \n",
    "    for encodeFace,faceLoc in zip(encodesCurFrame,facesCurFrame):\n",
    "        matches=face_recognition.compare_faces(encodeListKnown,encodeFace)\n",
    "        faceDis= face_recognition.face_distance(encodeListKnown,encodeFace)\n",
    "#         print(faceDis)\n",
    "        matchIndex=np.argmin(faceDis)\n",
    "        \n",
    "        if matches[matchIndex]:\n",
    "            name=classNames[matchIndex].upper()\n",
    "#             print(name)\n",
    "            y1,x2,y2,x1=faceLoc\n",
    "            y1,x2,y2,x1=y1*4,x2*4,y2*4,x1*4\n",
    "            cv2.rectangle(img,(x1,y1),(x2,y2),(0,255,0),2)\n",
    "            cv2.rectangle(img,(x1,y2-35),(x2,y2),(0,255,0),cv2.FILLED)\n",
    "            cv2.putText(img,name,(x1+6,y2-6),cv2.FONT_HERSHEY_COMPLEX,1,(255,255,255),2)\n",
    "            markAttendence(name)\n",
    "            \n",
    "            \n",
    "    cv2.imshow('webcam',img)\n",
    "    if cv2.waitKey(1) & 0xFF==ord('q'): # quit when 'q' is pressed\n",
    "        cap.release()\n",
    "        break\n",
    "cv2.destroyAllWindows() \n",
    "cv2.waitKey(1)"
   ]
  },
  {
   "cell_type": "code",
   "execution_count": null,
   "id": "f1f91a42",
   "metadata": {},
   "outputs": [],
   "source": []
  }
 ],
 "metadata": {
  "kernelspec": {
   "display_name": "Python 3 (ipykernel)",
   "language": "python",
   "name": "python3"
  },
  "language_info": {
   "codemirror_mode": {
    "name": "ipython",
    "version": 3
   },
   "file_extension": ".py",
   "mimetype": "text/x-python",
   "name": "python",
   "nbconvert_exporter": "python",
   "pygments_lexer": "ipython3",
   "version": "3.9.12"
  }
 },
 "nbformat": 4,
 "nbformat_minor": 5
}
